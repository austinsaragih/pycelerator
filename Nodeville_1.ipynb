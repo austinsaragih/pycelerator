{
 "cells": [
  {
   "cell_type": "code",
   "execution_count": 42,
   "id": "53490d3b",
   "metadata": {},
   "outputs": [],
   "source": [
    "import numpy as np\n",
    "import numba as nb\n",
    "from pprint import pp as print\n",
    "from utils import timer\n",
    "from pamda import pamda\n",
    "import multiprocessing"
   ]
  },
  {
   "cell_type": "code",
   "execution_count": 76,
   "id": "c7f196a4",
   "metadata": {},
   "outputs": [],
   "source": [
    "def calc_path_len(M, i):\n",
    "    \"\"\"\n",
    "    Given an input map list (M) and an intersection at which to start (i)\n",
    "    calculate the path number of unique intersections that can be visited\n",
    "    \"\"\"\n",
    "    tmp_path=[i]\n",
    "    next_i=i\n",
    "    while True:\n",
    "        next_i=M[next_i]\n",
    "        if next_i in tmp_path:\n",
    "            return len(tmp_path)\n",
    "        else:\n",
    "            tmp_path.append(next_i)"
   ]
  },
  {
   "cell_type": "code",
   "execution_count": 77,
   "id": "ba4df7b0",
   "metadata": {},
   "outputs": [],
   "source": [
    "def single_thread(M):\n",
    "    return max([calc_path_len(M, i) for i in range(len(M))])"
   ]
  },
  {
   "cell_type": "code",
   "execution_count": 78,
   "id": "3b4a622d",
   "metadata": {},
   "outputs": [],
   "source": [
    "M_example=[1,0,1,1,3,4]"
   ]
  },
  {
   "cell_type": "code",
   "execution_count": 79,
   "id": "d5b29a22",
   "metadata": {},
   "outputs": [
    {
     "name": "stdout",
     "output_type": "stream",
     "text": [
      "5\n"
     ]
    },
    {
     "data": {
      "text/plain": [
       "'Total Process Time: 0.0002 (seconds)'"
      ]
     },
     "execution_count": 79,
     "metadata": {},
     "output_type": "execute_result"
    }
   ],
   "source": [
    "timer.start()\n",
    "print(single_thread(M_example))\n",
    "timer.end()"
   ]
  },
  {
   "cell_type": "code",
   "execution_count": 80,
   "id": "b21caea8",
   "metadata": {},
   "outputs": [],
   "source": [
    "M_small=[i for i in range(1,2000)]+[0]"
   ]
  },
  {
   "cell_type": "code",
   "execution_count": 81,
   "id": "d101c141",
   "metadata": {},
   "outputs": [
    {
     "name": "stdout",
     "output_type": "stream",
     "text": [
      "2000\n"
     ]
    },
    {
     "data": {
      "text/plain": [
       "'Total Process Time: 21.043 (seconds)'"
      ]
     },
     "execution_count": 81,
     "metadata": {},
     "output_type": "execute_result"
    }
   ],
   "source": [
    "timer.start()\n",
    "print(single_thread(M_small))\n",
    "timer.end()"
   ]
  },
  {
   "cell_type": "code",
   "execution_count": 82,
   "id": "7fd3e6cf",
   "metadata": {},
   "outputs": [],
   "source": [
    "curried_calc_path_len=pamda.curry(calc_path_len)"
   ]
  },
  {
   "cell_type": "code",
   "execution_count": 83,
   "id": "95d9fac0",
   "metadata": {},
   "outputs": [],
   "source": [
    "def multi_thread(M):\n",
    "    if __name__==\"__main__\":\n",
    "        calc_len_at_i=curried_calc_path_len(M)\n",
    "        with multiprocessing.Pool() as p:\n",
    "            out = p.map(calc_len_at_i, range(len(M)))\n",
    "        return max(out)"
   ]
  },
  {
   "cell_type": "code",
   "execution_count": 84,
   "id": "9b542394",
   "metadata": {},
   "outputs": [
    {
     "name": "stdout",
     "output_type": "stream",
     "text": [
      "5\n"
     ]
    },
    {
     "data": {
      "text/plain": [
       "'Total Process Time: 0.1131 (seconds)'"
      ]
     },
     "execution_count": 84,
     "metadata": {},
     "output_type": "execute_result"
    }
   ],
   "source": [
    "timer.start()\n",
    "print(multi_thread(M_example))\n",
    "timer.end()"
   ]
  },
  {
   "cell_type": "code",
   "execution_count": 85,
   "id": "0732d353",
   "metadata": {},
   "outputs": [
    {
     "data": {
      "text/plain": [
       "'Total Process Time: 0.8604 (seconds)'"
      ]
     },
     "execution_count": 85,
     "metadata": {},
     "output_type": "execute_result"
    }
   ],
   "source": [
    "timer.start()\n",
    "multi_thread(M_small)\n",
    "timer.end()"
   ]
  },
  {
   "cell_type": "code",
   "execution_count": null,
   "id": "8d742514",
   "metadata": {},
   "outputs": [],
   "source": []
  }
 ],
 "metadata": {
  "kernelspec": {
   "display_name": "Python 3 (ipykernel)",
   "language": "python",
   "name": "python3"
  },
  "language_info": {
   "codemirror_mode": {
    "name": "ipython",
    "version": 3
   },
   "file_extension": ".py",
   "mimetype": "text/x-python",
   "name": "python",
   "nbconvert_exporter": "python",
   "pygments_lexer": "ipython3",
   "version": "3.8.10"
  }
 },
 "nbformat": 4,
 "nbformat_minor": 5
}
