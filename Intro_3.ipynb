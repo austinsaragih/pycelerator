{
 "cells": [
  {
   "cell_type": "code",
   "execution_count": 1,
   "id": "49f05344",
   "metadata": {},
   "outputs": [],
   "source": [
    "from pamda import pamda"
   ]
  },
  {
   "cell_type": "code",
   "execution_count": 2,
   "id": "f9b9d7ad",
   "metadata": {},
   "outputs": [],
   "source": [
    "def make_list(a,b,c):\n",
    "    return [a,b,c]"
   ]
  },
  {
   "cell_type": "code",
   "execution_count": 3,
   "id": "24374a31",
   "metadata": {},
   "outputs": [],
   "source": [
    "curried_make_list=pamda.curry(make_list)"
   ]
  },
  {
   "cell_type": "code",
   "execution_count": 4,
   "id": "167b03e2",
   "metadata": {},
   "outputs": [
    {
     "name": "stdout",
     "output_type": "stream",
     "text": [
      "[2, 3, 4]\n"
     ]
    }
   ],
   "source": [
    "print(curried_make_list(2,3,4))"
   ]
  },
  {
   "cell_type": "code",
   "execution_count": 5,
   "id": "dc2bf1fc",
   "metadata": {},
   "outputs": [
    {
     "name": "stdout",
     "output_type": "stream",
     "text": [
      "[1, 2, 3]\n"
     ]
    }
   ],
   "source": [
    "print(curried_make_list(1)(2)(3))"
   ]
  },
  {
   "cell_type": "code",
   "execution_count": 6,
   "id": "fe66073e",
   "metadata": {},
   "outputs": [
    {
     "name": "stdout",
     "output_type": "stream",
     "text": [
      "[2, 9, 7]\n"
     ]
    }
   ],
   "source": [
    "make_list_start_two=curried_make_list(2)\n",
    "print(make_list_start_two(9,7))"
   ]
  },
  {
   "cell_type": "code",
   "execution_count": 7,
   "id": "2896555f",
   "metadata": {},
   "outputs": [
    {
     "name": "stdout",
     "output_type": "stream",
     "text": [
      "[2, 5, 6]\n"
     ]
    }
   ],
   "source": [
    "make_list_start_two_five=make_list_start_two(5)\n",
    "print(make_list_start_two_five(6))"
   ]
  },
  {
   "cell_type": "code",
   "execution_count": null,
   "id": "59065fdf",
   "metadata": {},
   "outputs": [],
   "source": []
  },
  {
   "cell_type": "code",
   "execution_count": null,
   "id": "efe4060c",
   "metadata": {},
   "outputs": [],
   "source": []
  }
 ],
 "metadata": {
  "kernelspec": {
   "display_name": "Python 3 (ipykernel)",
   "language": "python",
   "name": "python3"
  },
  "language_info": {
   "codemirror_mode": {
    "name": "ipython",
    "version": 3
   },
   "file_extension": ".py",
   "mimetype": "text/x-python",
   "name": "python",
   "nbconvert_exporter": "python",
   "pygments_lexer": "ipython3",
   "version": "3.8.10"
  }
 },
 "nbformat": 4,
 "nbformat_minor": 5
}
