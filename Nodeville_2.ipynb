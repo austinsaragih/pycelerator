{
 "cells": [
  {
   "cell_type": "code",
   "execution_count": 1,
   "id": "a24d8570",
   "metadata": {},
   "outputs": [],
   "source": [
    "from utils import timer"
   ]
  },
  {
   "cell_type": "code",
   "execution_count": 4,
   "id": "9cadc162",
   "metadata": {},
   "outputs": [],
   "source": [
    "size=10**6\n",
    "M_large=list(range(1,size))+[0]"
   ]
  },
  {
   "cell_type": "code",
   "execution_count": 5,
   "id": "e07e15d2",
   "metadata": {},
   "outputs": [],
   "source": [
    "def calc_path_len_fast(M):\n",
    "    pathdict=[0 for i in range(len(M))]\n",
    "    pathlist=[0 for i in range(len(M))]\n",
    "    for i in range(len(M)):\n",
    "        if pathdict[i]==0:\n",
    "            temp=[i]\n",
    "            pathlist[i]=1\n",
    "            next_i=i\n",
    "            while True:\n",
    "                next_i=M[next_i]\n",
    "                if pathdict[next_i]!=0:\n",
    "                    temp_len=len(temp)\n",
    "                    for idx, val in enumerate(temp):\n",
    "                        pathdict[val]=(temp_len-idx)+pathdict[next_i]\n",
    "                    pathlist[next_i]=1\n",
    "                    break\n",
    "                if pathlist[next_i]!=0:\n",
    "                    current_len=len(temp)\n",
    "                    sub_loop=True\n",
    "                    for sub_i in temp:\n",
    "                        pathdict[sub_i]=current_len\n",
    "                        if sub_i==next_i:\n",
    "                            sub_loop=False\n",
    "                        if sub_loop:\n",
    "                            current_len-=1\n",
    "                    break\n",
    "                temp.append(next_i)\n",
    "                pathlist[next_i]=1\n",
    "    return max(pathdict)"
   ]
  },
  {
   "cell_type": "code",
   "execution_count": 6,
   "id": "07c0c3cb",
   "metadata": {},
   "outputs": [
    {
     "name": "stdout",
     "output_type": "stream",
     "text": [
      "1000000\n"
     ]
    },
    {
     "data": {
      "text/plain": [
       "'Total Process Time: 0.1929 (seconds)'"
      ]
     },
     "execution_count": 6,
     "metadata": {},
     "output_type": "execute_result"
    }
   ],
   "source": [
    "timer.start()\n",
    "print(calc_path_len_fast(M_large))\n",
    "timer.end()"
   ]
  },
  {
   "cell_type": "code",
   "execution_count": null,
   "id": "e6a4e2f5",
   "metadata": {},
   "outputs": [],
   "source": []
  }
 ],
 "metadata": {
  "kernelspec": {
   "display_name": "Python 3 (ipykernel)",
   "language": "python",
   "name": "python3"
  },
  "language_info": {
   "codemirror_mode": {
    "name": "ipython",
    "version": 3
   },
   "file_extension": ".py",
   "mimetype": "text/x-python",
   "name": "python",
   "nbconvert_exporter": "python",
   "pygments_lexer": "ipython3",
   "version": "3.8.10"
  }
 },
 "nbformat": 4,
 "nbformat_minor": 5
}
