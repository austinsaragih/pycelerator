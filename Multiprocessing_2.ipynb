{
 "cells": [
  {
   "cell_type": "code",
   "execution_count": 1,
   "id": "c8090b6c",
   "metadata": {},
   "outputs": [],
   "source": [
    "# Imports \n",
    "from multiprocessing import Pool\n",
    "import time\n",
    "from utils import timer\n",
    "from pamda import pamda"
   ]
  },
  {
   "cell_type": "code",
   "execution_count": 2,
   "id": "9d440813",
   "metadata": {},
   "outputs": [],
   "source": [
    "def two_wait_fn(t1,t2):\n",
    "    t_total=t1+t2\n",
    "    time.sleep(t_total)\n",
    "    print(f'Waited {t_total} seconds')\n",
    "    \n",
    "def two_wait_fn_unpacker(data):\n",
    "    return two_wait_fn(*data)"
   ]
  },
  {
   "cell_type": "code",
   "execution_count": 3,
   "id": "6c564d63",
   "metadata": {},
   "outputs": [],
   "source": [
    "data=[\n",
    "    [1,2],\n",
    "    [1,1],\n",
    "    [1,0]\n",
    "]"
   ]
  },
  {
   "cell_type": "code",
   "execution_count": 4,
   "id": "07301396",
   "metadata": {},
   "outputs": [
    {
     "name": "stdout",
     "output_type": "stream",
     "text": [
      "Waited 3 seconds\n",
      "Waited 2 seconds\n",
      "Waited 1 seconds\n"
     ]
    },
    {
     "data": {
      "text/plain": [
       "'Total Process Time: 6.0066 (seconds)'"
      ]
     },
     "execution_count": 4,
     "metadata": {},
     "output_type": "execute_result"
    }
   ],
   "source": [
    "timer.start()\n",
    "for i in data:\n",
    "    two_wait_fn_unpacker(i)\n",
    "timer.end()"
   ]
  },
  {
   "cell_type": "code",
   "execution_count": 5,
   "id": "3ebbc7ae",
   "metadata": {},
   "outputs": [
    {
     "name": "stdout",
     "output_type": "stream",
     "text": [
      "Waited 1 seconds\n",
      "Waited 2 seconds\n",
      "Waited 3 seconds\n"
     ]
    },
    {
     "data": {
      "text/plain": [
       "'Total Process Time: 3.1224 (seconds)'"
      ]
     },
     "execution_count": 5,
     "metadata": {},
     "output_type": "execute_result"
    }
   ],
   "source": [
    "timer.start()\n",
    "if __name__==\"__main__\":\n",
    "    with Pool() as p:\n",
    "        p.map(two_wait_fn_unpacker, data)\n",
    "timer.end()"
   ]
  },
  {
   "cell_type": "code",
   "execution_count": 1,
   "id": "60222dd8",
   "metadata": {},
   "outputs": [],
   "source": [
    "# Imports \n",
    "from multiprocessing import Pool\n",
    "import time\n",
    "from utils import timer\n",
    "from pamda import pamda\n",
    "\n",
    "def two_wait_fn(t1,t2):\n",
    "    t_total=t1+t2\n",
    "    time.sleep(t_total)\n",
    "    print(f'Waited {t_total} seconds')\n",
    "    \n",
    "data=[\n",
    "    [1,2],\n",
    "    [1,1],\n",
    "    [1,0]\n",
    "]"
   ]
  },
  {
   "cell_type": "code",
   "execution_count": 2,
   "id": "66493c7e",
   "metadata": {},
   "outputs": [
    {
     "name": "stdout",
     "output_type": "stream",
     "text": [
      "Waited 1 seconds\n",
      "Waited 2 seconds\n",
      "Waited 3 seconds\n"
     ]
    },
    {
     "data": {
      "text/plain": [
       "'Total Process Time: 6.0066 (seconds)'"
      ]
     },
     "execution_count": 2,
     "metadata": {},
     "output_type": "execute_result"
    }
   ],
   "source": [
    "timer.start()\n",
    "for i in [0,1,2]:\n",
    "    two_wait_fn(1,i)\n",
    "timer.end()"
   ]
  },
  {
   "cell_type": "code",
   "execution_count": 1,
   "id": "d5069075",
   "metadata": {},
   "outputs": [],
   "source": [
    "# Imports \n",
    "from multiprocessing import Pool\n",
    "import time\n",
    "from utils import timer\n",
    "from pamda import pamda\n",
    "\n",
    "def two_wait_fn(t1,t2):\n",
    "    t_total=t1+t2\n",
    "    time.sleep(t_total)\n",
    "    print(f'Waited {t_total} seconds')\n",
    "    \n",
    "data=[\n",
    "    [1,2],\n",
    "    [1,1],\n",
    "    [1,0]\n",
    "]"
   ]
  },
  {
   "cell_type": "code",
   "execution_count": 2,
   "id": "267bba93",
   "metadata": {},
   "outputs": [],
   "source": [
    "curried_two_wait_fn=pamda.curry(two_wait_fn)"
   ]
  },
  {
   "cell_type": "code",
   "execution_count": 3,
   "id": "69db380a",
   "metadata": {},
   "outputs": [
    {
     "name": "stdout",
     "output_type": "stream",
     "text": [
      "Waited 1 seconds\n",
      "Waited 2 seconds\n",
      "Waited 3 seconds\n"
     ]
    },
    {
     "data": {
      "text/plain": [
       "'Total Process Time: 6.0054 (seconds)'"
      ]
     },
     "execution_count": 3,
     "metadata": {},
     "output_type": "execute_result"
    }
   ],
   "source": [
    "timer.start()\n",
    "wait_plus_one=curried_two_wait_fn(1)\n",
    "for i in [0,1,2]:\n",
    "    wait_plus_one(i)\n",
    "timer.end()"
   ]
  },
  {
   "cell_type": "code",
   "execution_count": 4,
   "id": "8774b677",
   "metadata": {},
   "outputs": [
    {
     "name": "stdout",
     "output_type": "stream",
     "text": [
      "Waited 1 seconds\n",
      "Waited 2 seconds\n",
      "Waited 3 seconds\n"
     ]
    },
    {
     "data": {
      "text/plain": [
       "'Total Process Time: 3.1361 (seconds)'"
      ]
     },
     "execution_count": 4,
     "metadata": {},
     "output_type": "execute_result"
    }
   ],
   "source": [
    "timer.start()\n",
    "wait_plus_one=curried_two_wait_fn(1)\n",
    "if __name__==\"__main__\":\n",
    "    with Pool() as p:\n",
    "        p.map(wait_plus_one, [2,1,0])\n",
    "timer.end()"
   ]
  },
  {
   "cell_type": "code",
   "execution_count": null,
   "id": "252ee41b",
   "metadata": {},
   "outputs": [],
   "source": []
  }
 ],
 "metadata": {
  "kernelspec": {
   "display_name": "Python 3 (ipykernel)",
   "language": "python",
   "name": "python3"
  },
  "language_info": {
   "codemirror_mode": {
    "name": "ipython",
    "version": 3
   },
   "file_extension": ".py",
   "mimetype": "text/x-python",
   "name": "python",
   "nbconvert_exporter": "python",
   "pygments_lexer": "ipython3",
   "version": "3.8.10"
  }
 },
 "nbformat": 4,
 "nbformat_minor": 5
}
