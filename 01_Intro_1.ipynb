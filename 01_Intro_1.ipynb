{
 "cells": [
  {
   "cell_type": "code",
   "execution_count": 1,
   "id": "39ccca2a",
   "metadata": {},
   "outputs": [],
   "source": [
    "def add_one(i):\n",
    "    return i+1"
   ]
  },
  {
   "cell_type": "code",
   "execution_count": 2,
   "id": "a0f95dc8",
   "metadata": {},
   "outputs": [],
   "source": [
    "data=[1,2,3]"
   ]
  },
  {
   "cell_type": "code",
   "execution_count": 3,
   "id": "96e4de2e",
   "metadata": {},
   "outputs": [
    {
     "name": "stdout",
     "output_type": "stream",
     "text": [
      "[2, 3, 4]\n"
     ]
    }
   ],
   "source": [
    "# Looping and Appending\n",
    "out_loop=[]\n",
    "for i in data:\n",
    "    res=add_one(i)\n",
    "    out_loop.append(res)\n",
    "    \n",
    "print(out_loop)"
   ]
  },
  {
   "cell_type": "code",
   "execution_count": 4,
   "id": "7e908638",
   "metadata": {},
   "outputs": [
    {
     "name": "stdout",
     "output_type": "stream",
     "text": [
      "[2, 3, 4]\n"
     ]
    }
   ],
   "source": [
    "# List comprehension\n",
    "out_listcomp=[add_one(i) for i in data]\n",
    "\n",
    "print(out_listcomp)"
   ]
  },
  {
   "cell_type": "code",
   "execution_count": 5,
   "id": "ab214104",
   "metadata": {},
   "outputs": [
    {
     "name": "stdout",
     "output_type": "stream",
     "text": [
      "[2, 3, 4]\n"
     ]
    }
   ],
   "source": [
    "# Map\n",
    "out_map=map(add_one,data)\n",
    "print(list(out_map))"
   ]
  },
  {
   "cell_type": "raw",
   "id": "5ad1abc3",
   "metadata": {},
   "source": []
  }
 ],
 "metadata": {
  "kernelspec": {
   "display_name": "Python 3 (ipykernel)",
   "language": "python",
   "name": "python3"
  },
  "language_info": {
   "codemirror_mode": {
    "name": "ipython",
    "version": 3
   },
   "file_extension": ".py",
   "mimetype": "text/x-python",
   "name": "python",
   "nbconvert_exporter": "python",
   "pygments_lexer": "ipython3",
   "version": "3.8.10"
  }
 },
 "nbformat": 4,
 "nbformat_minor": 5
}
