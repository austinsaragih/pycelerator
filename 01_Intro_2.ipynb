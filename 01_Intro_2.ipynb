{
 "cells": [
  {
   "cell_type": "code",
   "execution_count": 8,
   "id": "b2c022f7",
   "metadata": {},
   "outputs": [],
   "source": [
    "def add_two_items(a,b):\n",
    "    return a+b"
   ]
  },
  {
   "cell_type": "code",
   "execution_count": 9,
   "id": "a6abbe55",
   "metadata": {},
   "outputs": [
    {
     "name": "stdout",
     "output_type": "stream",
     "text": [
      "3\n",
      "5\n",
      "7\n"
     ]
    }
   ],
   "source": [
    "print(add_two_items(1,2))\n",
    "print(add_two_items(2,3))\n",
    "print(add_two_items(3,4))"
   ]
  },
  {
   "cell_type": "code",
   "execution_count": 10,
   "id": "87243d31",
   "metadata": {},
   "outputs": [
    {
     "name": "stdout",
     "output_type": "stream",
     "text": [
      "3\n"
     ]
    }
   ],
   "source": [
    "list_data=[1,2]\n",
    "print(add_two_items(*list_data))"
   ]
  },
  {
   "cell_type": "code",
   "execution_count": 11,
   "id": "6cb016f6",
   "metadata": {},
   "outputs": [
    {
     "name": "stdout",
     "output_type": "stream",
     "text": [
      "3\n"
     ]
    }
   ],
   "source": [
    "dict_data={'a':1,'b':2}\n",
    "print(add_two_items(**dict_data))"
   ]
  },
  {
   "cell_type": "code",
   "execution_count": 12,
   "id": "ea454119",
   "metadata": {},
   "outputs": [],
   "source": [
    "data=[\n",
    "    [1,2],\n",
    "    [2,3],\n",
    "    [3,4]\n",
    "]\n",
    "\n",
    "def add_two_items_unpacker(args_list):\n",
    "    return add_two_items(*args_list)"
   ]
  },
  {
   "cell_type": "code",
   "execution_count": 13,
   "id": "4933209f",
   "metadata": {},
   "outputs": [
    {
     "ename": "SyntaxError",
     "evalue": "can't use starred expression here (2892200848.py, line 1)",
     "output_type": "error",
     "traceback": [
      "\u001b[0;36m  File \u001b[0;32m\"/tmp/ipykernel_9033/2892200848.py\"\u001b[0;36m, line \u001b[0;32m1\u001b[0m\n\u001b[0;31m    out=*map(add_two_items_unpacker, data)\u001b[0m\n\u001b[0m        ^\u001b[0m\n\u001b[0;31mSyntaxError\u001b[0m\u001b[0;31m:\u001b[0m can't use starred expression here\n"
     ]
    }
   ],
   "source": [
    "out=map(add_two_items_unpacker, data)\n",
    "print(list(out))"
   ]
  },
  {
   "cell_type": "code",
   "execution_count": null,
   "id": "4660868e",
   "metadata": {},
   "outputs": [],
   "source": []
  }
 ],
 "metadata": {
  "kernelspec": {
   "display_name": "Python 3 (ipykernel)",
   "language": "python",
   "name": "python3"
  },
  "language_info": {
   "codemirror_mode": {
    "name": "ipython",
    "version": 3
   },
   "file_extension": ".py",
   "mimetype": "text/x-python",
   "name": "python",
   "nbconvert_exporter": "python",
   "pygments_lexer": "ipython3",
   "version": "3.8.10"
  }
 },
 "nbformat": 4,
 "nbformat_minor": 5
}
