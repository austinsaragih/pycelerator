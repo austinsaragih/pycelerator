{
 "cells": [
  {
   "cell_type": "code",
   "execution_count": 1,
   "id": "fc2bcd34",
   "metadata": {},
   "outputs": [],
   "source": [
    "# Imports \n",
    "from multiprocessing import Pool\n",
    "import time\n",
    "from utils import timer\n",
    "from pamda import pamda\n",
    "\n",
    "def two_wait_fn(t1,t2):\n",
    "    t_total=t1+t2\n",
    "    time.sleep(t_total)\n",
    "    print(f'Waited {t_total} seconds')"
   ]
  },
  {
   "cell_type": "code",
   "execution_count": null,
   "id": "c146c149",
   "metadata": {},
   "outputs": [
    {
     "name": "stdout",
     "output_type": "stream",
     "text": [
      "Waited 3 seconds\n",
      "Waited 2 seconds\n"
     ]
    }
   ],
   "source": [
    "for i in [2,1,0]:\n",
    "    two_wait_fn(1,i)"
   ]
  },
  {
   "cell_type": "code",
   "execution_count": null,
   "id": "fdf0a831",
   "metadata": {},
   "outputs": [],
   "source": [
    "curried_two_wait_fn=pamda.curry(two_wait_fn)\n",
    "wait_plus_one=curried_two_wait_fn(1)"
   ]
  },
  {
   "cell_type": "code",
   "execution_count": null,
   "id": "55646919",
   "metadata": {},
   "outputs": [],
   "source": [
    "for i in [2,1,0]:\n",
    "    wait_plus_one(i)"
   ]
  },
  {
   "cell_type": "code",
   "execution_count": null,
   "id": "e9ad2751",
   "metadata": {},
   "outputs": [],
   "source": [
    "if __name__==\"__main__\":\n",
    "    with Pool() as p:\n",
    "        p.map(wait_plus_one, [2,1,0])"
   ]
  }
 ],
 "metadata": {
  "kernelspec": {
   "display_name": "Python 3 (ipykernel)",
   "language": "python",
   "name": "python3"
  },
  "language_info": {
   "codemirror_mode": {
    "name": "ipython",
    "version": 3
   },
   "file_extension": ".py",
   "mimetype": "text/x-python",
   "name": "python",
   "nbconvert_exporter": "python",
   "pygments_lexer": "ipython3",
   "version": "3.8.10"
  }
 },
 "nbformat": 4,
 "nbformat_minor": 5
}
