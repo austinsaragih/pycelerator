{
 "cells": [
  {
   "cell_type": "code",
   "execution_count": 1,
   "id": "6cad28fd",
   "metadata": {},
   "outputs": [],
   "source": [
    "import numba as nb\n",
    "import numpy as np\n",
    "import multiprocessing\n",
    "from pprint import pp as print\n",
    "from utils import timer"
   ]
  },
  {
   "cell_type": "code",
   "execution_count": 2,
   "id": "7e26aabf",
   "metadata": {},
   "outputs": [],
   "source": [
    "def gen_data(n):\n",
    "    \"\"\"\n",
    "    Enumerate all possible combinations of the values between 0 and n-1 \n",
    "    to use when calculating the sum of 3 squares\n",
    "    \n",
    "    Note: \n",
    "    Total output items = n**3\n",
    "    At n=1000, 7 GBs of data is created - this grows exponentially\n",
    "    \"\"\"\n",
    "    n_items=np.arange(n)\n",
    "    return np.array(np.meshgrid(n_items,n_items,n_items)).reshape(3,-1).T.tolist()"
   ]
  },
  {
   "cell_type": "code",
   "execution_count": 3,
   "id": "cd5c0e35",
   "metadata": {},
   "outputs": [
    {
     "name": "stdout",
     "output_type": "stream",
     "text": [
      "[[0, 0, 0],\n",
      " [0, 0, 1],\n",
      " [1, 0, 0],\n",
      " [1, 0, 1],\n",
      " [0, 1, 0],\n",
      " [0, 1, 1],\n",
      " [1, 1, 0],\n",
      " [1, 1, 1]]\n"
     ]
    }
   ],
   "source": [
    "data=gen_data(2)\n",
    "print(data)"
   ]
  },
  {
   "cell_type": "code",
   "execution_count": 4,
   "id": "4ef04c75",
   "metadata": {},
   "outputs": [],
   "source": [
    "def sum3cubes(a,b,c):\n",
    "    \"\"\"\n",
    "    Calculate the sum of 3 cubes\n",
    "    \"\"\"\n",
    "    return a**3 + b**3 + c**3\n",
    "\n",
    "def sum3cubes_unpacker(data):\n",
    "    return sum3cubes(*data)"
   ]
  },
  {
   "cell_type": "code",
   "execution_count": 5,
   "id": "b9b1b775",
   "metadata": {},
   "outputs": [],
   "source": [
    "def single_thread(data):\n",
    "    \"\"\"\n",
    "    For all items in a list [[a,b,c],[a,b,c],...] calculate the sum of 3 cubes\n",
    "    \"\"\"\n",
    "    return [sum3cubes_unpacker(i) for i in data]"
   ]
  },
  {
   "cell_type": "code",
   "execution_count": 6,
   "id": "a7629569",
   "metadata": {},
   "outputs": [
    {
     "name": "stdout",
     "output_type": "stream",
     "text": [
      "[0, 1, 1, 2, 1, 2, 2, 3]\n"
     ]
    }
   ],
   "source": [
    "print(single_thread(data))"
   ]
  },
  {
   "cell_type": "code",
   "execution_count": 7,
   "id": "3539648b",
   "metadata": {},
   "outputs": [],
   "source": [
    "def sum3cubes(a,b,c):\n",
    "    \"\"\"\n",
    "    Calculate the sum of 3 cubes\n",
    "    \"\"\"\n",
    "    return a**3 + b**3 + c**3\n",
    "\n",
    "def sum3cubes_unpacker(data):\n",
    "    return sum3cubes(*data)"
   ]
  },
  {
   "cell_type": "code",
   "execution_count": 8,
   "id": "f39d6c8a",
   "metadata": {},
   "outputs": [],
   "source": [
    "def multi_thread(data):\n",
    "    \"\"\"\n",
    "    For all items in a list [[a,b,c],[a,b,c],...] calculate the sum of 3 cubes\n",
    "    \"\"\"\n",
    "    if __name__==\"__main__\":\n",
    "        with multiprocessing.Pool() as p:\n",
    "            out = p.map(sum3cubes_unpacker, data)\n",
    "        return out"
   ]
  },
  {
   "cell_type": "code",
   "execution_count": 9,
   "id": "61d30263",
   "metadata": {},
   "outputs": [
    {
     "name": "stdout",
     "output_type": "stream",
     "text": [
      "[0, 1, 1, 2, 1, 2, 2, 3]\n"
     ]
    },
    {
     "data": {
      "text/plain": [
       "'Total Process Time: 0.1579 (seconds)'"
      ]
     },
     "execution_count": 9,
     "metadata": {},
     "output_type": "execute_result"
    }
   ],
   "source": [
    "timer.start()\n",
    "print(multi_thread(data))\n",
    "timer.end()"
   ]
  },
  {
   "cell_type": "code",
   "execution_count": 10,
   "id": "8eb3ae53",
   "metadata": {},
   "outputs": [
    {
     "name": "stdout",
     "output_type": "stream",
     "text": [
      "15625000\n"
     ]
    }
   ],
   "source": [
    "med_data=gen_data(250)\n",
    "print(len(med_data))"
   ]
  },
  {
   "cell_type": "code",
   "execution_count": 11,
   "id": "d8a850db",
   "metadata": {},
   "outputs": [
    {
     "data": {
      "text/plain": [
       "'Total Process Time: 9.107 (seconds)'"
      ]
     },
     "execution_count": 11,
     "metadata": {},
     "output_type": "execute_result"
    }
   ],
   "source": [
    "timer.start()\n",
    "single_thread(med_data)\n",
    "timer.end()"
   ]
  },
  {
   "cell_type": "code",
   "execution_count": 12,
   "id": "c4e26556",
   "metadata": {},
   "outputs": [
    {
     "data": {
      "text/plain": [
       "'Total Process Time: 3.6812 (seconds)'"
      ]
     },
     "execution_count": 12,
     "metadata": {},
     "output_type": "execute_result"
    }
   ],
   "source": [
    "timer.start()\n",
    "multi_thread(med_data)\n",
    "timer.end()"
   ]
  },
  {
   "cell_type": "code",
   "execution_count": null,
   "id": "a0c086a8",
   "metadata": {},
   "outputs": [],
   "source": []
  }
 ],
 "metadata": {
  "kernelspec": {
   "display_name": "Python 3 (ipykernel)",
   "language": "python",
   "name": "python3"
  },
  "language_info": {
   "codemirror_mode": {
    "name": "ipython",
    "version": 3
   },
   "file_extension": ".py",
   "mimetype": "text/x-python",
   "name": "python",
   "nbconvert_exporter": "python",
   "pygments_lexer": "ipython3",
   "version": "3.8.10"
  }
 },
 "nbformat": 4,
 "nbformat_minor": 5
}
