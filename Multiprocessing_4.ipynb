{
 "cells": [
  {
   "cell_type": "code",
   "execution_count": 1,
   "id": "51410a49",
   "metadata": {},
   "outputs": [],
   "source": [
    "import numba as nb\n",
    "import numpy as np\n",
    "from pprint import pp as print\n",
    "from utils import timer"
   ]
  },
  {
   "cell_type": "code",
   "execution_count": 2,
   "id": "f28b0ab5",
   "metadata": {},
   "outputs": [],
   "source": [
    "def gen_data_vectors(n):\n",
    "    \"\"\"\n",
    "    Enumerate all possible combinations of the values between 0 and n-1 \n",
    "    to use when calculating the sum of 3 squares\n",
    "    \n",
    "    Note: \n",
    "    Total output items = n**3\n",
    "    At n=1000, 7 GBs of data is created - this grows exponentially\n",
    "    \"\"\"\n",
    "    n_items=np.arange(n)\n",
    "    return np.array(np.meshgrid(n_items,n_items,n_items)).reshape(3,-1)"
   ]
  },
  {
   "cell_type": "code",
   "execution_count": 3,
   "id": "c3e88b94",
   "metadata": {},
   "outputs": [
    {
     "name": "stdout",
     "output_type": "stream",
     "text": [
      "array([[0, 0, 1, 1, 0, 0, 1, 1],\n",
      "       [0, 0, 0, 0, 1, 1, 1, 1],\n",
      "       [0, 1, 0, 1, 0, 1, 0, 1]])\n"
     ]
    }
   ],
   "source": [
    "data_vectors=gen_data_vectors(2)\n",
    "print(data_vectors)"
   ]
  },
  {
   "cell_type": "code",
   "execution_count": 4,
   "id": "768ef761",
   "metadata": {},
   "outputs": [],
   "source": [
    "@nb.vectorize(['int64(int64,int64,int64)'])\n",
    "def nb_sum3sqares(a,b,c):\n",
    "    return a**3+b**3+c**3"
   ]
  },
  {
   "cell_type": "code",
   "execution_count": 5,
   "id": "77e05f46",
   "metadata": {},
   "outputs": [
    {
     "name": "stdout",
     "output_type": "stream",
     "text": [
      "array([0, 1, 1, 2, 1, 2, 2, 3])\n"
     ]
    },
    {
     "data": {
      "text/plain": [
       "'Total Process Time: 0.0002 (seconds)'"
      ]
     },
     "execution_count": 5,
     "metadata": {},
     "output_type": "execute_result"
    }
   ],
   "source": [
    "timer.start()\n",
    "print(nb_sum3sqares(*data_vectors))\n",
    "timer.end()"
   ]
  },
  {
   "cell_type": "code",
   "execution_count": 6,
   "id": "d74bed8a",
   "metadata": {},
   "outputs": [],
   "source": [
    "@nb.vectorize(['int64(int64,int64,int64)'], target='parallel')\n",
    "def nb_mp_sum3sqares(a,b,c):\n",
    "    return a**3+b**3+c**3"
   ]
  },
  {
   "cell_type": "code",
   "execution_count": 7,
   "id": "adccaa99",
   "metadata": {},
   "outputs": [
    {
     "name": "stdout",
     "output_type": "stream",
     "text": [
      "array([0, 1, 1, 2, 1, 2, 2, 3])\n"
     ]
    },
    {
     "data": {
      "text/plain": [
       "'Total Process Time: 0.0113 (seconds)'"
      ]
     },
     "execution_count": 7,
     "metadata": {},
     "output_type": "execute_result"
    }
   ],
   "source": [
    "timer.start()\n",
    "print(nb_mp_sum3sqares(*data_vectors))\n",
    "timer.end()"
   ]
  },
  {
   "cell_type": "code",
   "execution_count": 8,
   "id": "7bda657a",
   "metadata": {},
   "outputs": [],
   "source": [
    "data_vectors_med=gen_data_vectors(250)\n",
    "data_vectors_lg=gen_data_vectors(1000)"
   ]
  },
  {
   "cell_type": "code",
   "execution_count": 9,
   "id": "214f22b8",
   "metadata": {},
   "outputs": [
    {
     "data": {
      "text/plain": [
       "'Total Process Time: 0.0169 (seconds)'"
      ]
     },
     "execution_count": 9,
     "metadata": {},
     "output_type": "execute_result"
    }
   ],
   "source": [
    "timer.start()\n",
    "nb_mp_sum3sqares(*data_vectors_med)\n",
    "timer.end()"
   ]
  },
  {
   "cell_type": "code",
   "execution_count": 10,
   "id": "bf003af1",
   "metadata": {},
   "outputs": [
    {
     "data": {
      "text/plain": [
       "'Total Process Time: 0.7853 (seconds)'"
      ]
     },
     "execution_count": 10,
     "metadata": {},
     "output_type": "execute_result"
    }
   ],
   "source": [
    "timer.start()\n",
    "nb_mp_sum3sqares(*data_vectors_lg)\n",
    "timer.end()"
   ]
  },
  {
   "cell_type": "code",
   "execution_count": null,
   "id": "c0e93fe7",
   "metadata": {},
   "outputs": [],
   "source": []
  }
 ],
 "metadata": {
  "kernelspec": {
   "display_name": "Python 3 (ipykernel)",
   "language": "python",
   "name": "python3"
  },
  "language_info": {
   "codemirror_mode": {
    "name": "ipython",
    "version": 3
   },
   "file_extension": ".py",
   "mimetype": "text/x-python",
   "name": "python",
   "nbconvert_exporter": "python",
   "pygments_lexer": "ipython3",
   "version": "3.8.10"
  }
 },
 "nbformat": 4,
 "nbformat_minor": 5
}
