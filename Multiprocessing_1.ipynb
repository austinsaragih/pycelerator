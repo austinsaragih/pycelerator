{
 "cells": [
  {
   "cell_type": "code",
   "execution_count": 1,
   "id": "fb0c8055",
   "metadata": {},
   "outputs": [],
   "source": [
    "# Imports \n",
    "from multiprocessing import Pool\n",
    "import time\n",
    "from utils import timer"
   ]
  },
  {
   "cell_type": "code",
   "execution_count": 2,
   "id": "19353dfd",
   "metadata": {},
   "outputs": [],
   "source": [
    "def wait_fn(t):\n",
    "    time.sleep(t)\n",
    "    print(f'Waited {t} seconds')"
   ]
  },
  {
   "cell_type": "code",
   "execution_count": 3,
   "id": "abded60c",
   "metadata": {},
   "outputs": [
    {
     "name": "stdout",
     "output_type": "stream",
     "text": [
      "Waited 3 seconds\n",
      "Waited 2 seconds\n",
      "Waited 1 seconds\n"
     ]
    },
    {
     "data": {
      "text/plain": [
       "'Total Process Time: 6.0064 (seconds)'"
      ]
     },
     "execution_count": 3,
     "metadata": {},
     "output_type": "execute_result"
    }
   ],
   "source": [
    "timer.start()\n",
    "for i in [3,2,1]:\n",
    "    wait_fn(i)\n",
    "timer.end()"
   ]
  },
  {
   "cell_type": "code",
   "execution_count": 4,
   "id": "382f8992",
   "metadata": {},
   "outputs": [
    {
     "name": "stdout",
     "output_type": "stream",
     "text": [
      "Waited 1 seconds\n",
      "Waited 2 seconds\n",
      "Waited 3 seconds\n"
     ]
    },
    {
     "data": {
      "text/plain": [
       "'Total Process Time: 3.1425 (seconds)'"
      ]
     },
     "execution_count": 4,
     "metadata": {},
     "output_type": "execute_result"
    }
   ],
   "source": [
    "timer.start()\n",
    "if __name__==\"__main__\":\n",
    "    with Pool() as p:\n",
    "        p.map(wait_fn, [3,2,1])\n",
    "timer.end()"
   ]
  },
  {
   "cell_type": "code",
   "execution_count": null,
   "id": "c24e80d1",
   "metadata": {},
   "outputs": [],
   "source": []
  }
 ],
 "metadata": {
  "kernelspec": {
   "display_name": "Python 3 (ipykernel)",
   "language": "python",
   "name": "python3"
  },
  "language_info": {
   "codemirror_mode": {
    "name": "ipython",
    "version": 3
   },
   "file_extension": ".py",
   "mimetype": "text/x-python",
   "name": "python",
   "nbconvert_exporter": "python",
   "pygments_lexer": "ipython3",
   "version": "3.8.10"
  }
 },
 "nbformat": 4,
 "nbformat_minor": 5
}
